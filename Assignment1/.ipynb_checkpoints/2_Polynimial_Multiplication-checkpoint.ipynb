{
 "cells": [
  {
   "cell_type": "markdown",
   "metadata": {
    "colab_type": "text",
    "id": "view-in-github"
   },
   "source": [
    "<a href=\"https://colab.research.google.com/github/ummadiviany/algorithms/blob/main/Assignment1/2_Polynimial_Multiplication.ipynb\" target=\"_parent\"><img src=\"https://colab.research.google.com/assets/colab-badge.svg\" alt=\"Open In Colab\"/></a>"
   ]
  },
  {
   "cell_type": "markdown",
   "metadata": {
    "id": "gNYqBUKGTWGh"
   },
   "source": [
    "## 1) Naive Polynomial Multiplication"
   ]
  },
  {
   "cell_type": "code",
   "execution_count": 5,
   "metadata": {
    "colab": {
     "base_uri": "https://localhost:8080/"
    },
    "id": "0C_4GuMuS_s5",
    "outputId": "fd318f2e-c8cc-42fc-fd1a-278b6161fada"
   },
   "outputs": [
    {
     "name": "stdout",
     "output_type": "stream",
     "text": [
      "[2, 5, 12, 11, 12]\n"
     ]
    }
   ],
   "source": [
    "def poly_mult(a,b):\n",
    "    n1 = len(a)\n",
    "    n2 = len(b)\n",
    "    # if n1 >= n2:\n",
    "    #     b += [0 for _ in range(n1-n2)]\n",
    "    # else:\n",
    "    #     a += [0 for _ in range(n2-n1)]\n",
    "    a  += [0 for _ in range(n2-1)]\n",
    "    b  += [0 for _ in range(n1-1)]\n",
    "    c = [sum([a[i]*b[k-i] for i in range(k+1)]) for k in range(n1+n2-1)]\n",
    "\n",
    "    return c\n",
    "\n",
    "print(poly_mult([1, 2, 3], [2, 1, 4]))"
   ]
  },
  {
   "cell_type": "markdown",
   "metadata": {
    "id": "2tiO770_ZGxN"
   },
   "source": [
    "## 2) FFT and IFFT"
   ]
  },
  {
   "cell_type": "code",
   "execution_count": null,
   "metadata": {
    "id": "acAflYdgX5eS"
   },
   "outputs": [],
   "source": []
  }
 ],
 "metadata": {
  "colab": {
   "authorship_tag": "ABX9TyP67/XwUIc2Lg78c9SHARE0",
   "collapsed_sections": [],
   "include_colab_link": true,
   "name": "2.Polynimial Multiplication.ipynb",
   "provenance": []
  },
  "kernelspec": {
   "display_name": "Python 3 (ipykernel)",
   "language": "python",
   "name": "python3"
  },
  "language_info": {
   "codemirror_mode": {
    "name": "ipython",
    "version": 3
   },
   "file_extension": ".py",
   "mimetype": "text/x-python",
   "name": "python",
   "nbconvert_exporter": "python",
   "pygments_lexer": "ipython3",
   "version": "3.9.7"
  }
 },
 "nbformat": 4,
 "nbformat_minor": 1
}
