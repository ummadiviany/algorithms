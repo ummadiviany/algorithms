{
  "nbformat": 4,
  "nbformat_minor": 0,
  "metadata": {
    "colab": {
      "name": "1.Merge-Sort.ipynb",
      "provenance": [],
      "collapsed_sections": [],
      "authorship_tag": "ABX9TyP3um2/YtDk02/Ie3u4XmtO",
      "include_colab_link": true
    },
    "kernelspec": {
      "name": "python3",
      "display_name": "Python 3"
    },
    "language_info": {
      "name": "python"
    }
  },
  "cells": [
    {
      "cell_type": "markdown",
      "metadata": {
        "id": "view-in-github",
        "colab_type": "text"
      },
      "source": [
        "<a href=\"https://colab.research.google.com/github/ummadiviany/algorithms/blob/main/Assignment1/1_Merge_Sort.ipynb\" target=\"_parent\"><img src=\"https://colab.research.google.com/assets/colab-badge.svg\" alt=\"Open In Colab\"/></a>"
      ]
    },
    {
      "cell_type": "markdown",
      "source": [
        "# Merge Sort and Insertion Sort"
      ],
      "metadata": {
        "id": "7fzll1BXGf0a"
      }
    },
    {
      "cell_type": "markdown",
      "source": [
        "## a) Recursive Merge-Sort Implementation\n"
      ],
      "metadata": {
        "id": "JzXtsl33_KSa"
      }
    },
    {
      "cell_type": "code",
      "execution_count": 5,
      "metadata": {
        "id": "9XfkP_vB-vM8"
      },
      "outputs": [],
      "source": [
        "def merge(x,y):\n",
        "    if len(x) == 0:\n",
        "        return y\n",
        "    if len(y) == 0:\n",
        "        return x\n",
        "    if x[0] <= y[0]:\n",
        "        return [x[0]] + merge(x[1:], y)\n",
        "    else:\n",
        "        return [y[0]] + merge(x, y[1:])"
      ]
    },
    {
      "cell_type": "code",
      "source": [
        "def merge_sort(a):\n",
        "    n = len(a)\n",
        "    if n > 1:\n",
        "        return merge(merge_sort(a[:n//2]), merge_sort(a[n//2:]))\n",
        "    else:\n",
        "        return a"
      ],
      "metadata": {
        "id": "a_7cf6Cz_Fxf"
      },
      "execution_count": 6,
      "outputs": []
    },
    {
      "cell_type": "code",
      "source": [
        "def test_merge(inp,out,sort_func):\n",
        "    \"\"\"\n",
        "    Utility function for checking testing mergesort\n",
        "    \"\"\"\n",
        "    aout = sort_func(inp)\n",
        "    print(\"Passed\" if out == aout else \"Failed \", end=\"\\n\")\n",
        "    print(f\"Input : {inp} \\nExpected O/P : {out} \\nActual O/P : {aout} \\n\")"
      ],
      "metadata": {
        "id": "nKxKQhc6_F0f"
      },
      "execution_count": 20,
      "outputs": []
    },
    {
      "cell_type": "code",
      "source": [
        "#testcases for testing merge_sort\n",
        "test_cases_input = [\n",
        "                    [], [1], [2, 1], [13, 7, 5], [23, 7, 13, 5], [1, 2, 2, 1, 0, 0, 15, 15], [135604, 1000000, 45, 78435, 456219832, 2, 546]\n",
        "]\n",
        "\n",
        "for case in test_cases_input:\n",
        "    #checkin against testcases\n",
        "    test_merge(case,sorted(case),merge_sort)\n",
        "print(\"All test cases passed\")"
      ],
      "metadata": {
        "colab": {
          "base_uri": "https://localhost:8080/"
        },
        "id": "S2uNmTDdB8-7",
        "outputId": "a80ef5ef-2db6-44b7-f804-70d6ff56ed1e"
      },
      "execution_count": 25,
      "outputs": [
        {
          "output_type": "stream",
          "name": "stdout",
          "text": [
            "Passed\n",
            "Input : [] \n",
            "Expected O/P : [] \n",
            "Actual O/P : [] \n",
            "\n",
            "Passed\n",
            "Input : [1] \n",
            "Expected O/P : [1] \n",
            "Actual O/P : [1] \n",
            "\n",
            "Passed\n",
            "Input : [2, 1] \n",
            "Expected O/P : [1, 2] \n",
            "Actual O/P : [1, 2] \n",
            "\n",
            "Passed\n",
            "Input : [13, 7, 5] \n",
            "Expected O/P : [5, 7, 13] \n",
            "Actual O/P : [5, 7, 13] \n",
            "\n",
            "Passed\n",
            "Input : [23, 7, 13, 5] \n",
            "Expected O/P : [5, 7, 13, 23] \n",
            "Actual O/P : [5, 7, 13, 23] \n",
            "\n",
            "Passed\n",
            "Input : [1, 2, 2, 1, 0, 0, 15, 15] \n",
            "Expected O/P : [0, 0, 1, 1, 2, 2, 15, 15] \n",
            "Actual O/P : [0, 0, 1, 1, 2, 2, 15, 15] \n",
            "\n",
            "Passed\n",
            "Input : [135604, 1000000, 45, 78435, 456219832, 2, 546] \n",
            "Expected O/P : [2, 45, 546, 78435, 135604, 1000000, 456219832] \n",
            "Actual O/P : [2, 45, 546, 78435, 135604, 1000000, 456219832] \n",
            "\n",
            "All test cases passed\n"
          ]
        }
      ]
    },
    {
      "cell_type": "markdown",
      "source": [
        "## b) Insertion Sort"
      ],
      "metadata": {
        "id": "y2TVxJTMGvkQ"
      }
    },
    {
      "cell_type": "code",
      "source": [
        "def insertion_sort(arr):\n",
        "    i = 1\n",
        "    while i < len(arr):\n",
        "        j = i\n",
        "        while j > 0  and arr[j-1] > arr[j]:\n",
        "            arr[j], arr[j-1] = arr[j-1], arr[j]\n",
        "            #print(arr)\n",
        "            j -= 1\n",
        "        i += 1\n",
        "    return arr"
      ],
      "metadata": {
        "id": "MCVpOuyZB9WZ"
      },
      "execution_count": 26,
      "outputs": []
    },
    {
      "cell_type": "code",
      "source": [
        "for case in test_cases_input:\n",
        "    #checkin against testcases\n",
        "    test_merge(case,sorted(case),insertion_sort)\n",
        "print(\"All test cases passed\")"
      ],
      "metadata": {
        "colab": {
          "base_uri": "https://localhost:8080/"
        },
        "id": "T5vEdRFbG1z6",
        "outputId": "58ebcd24-13f7-4a8e-b5eb-a4663b0290ac"
      },
      "execution_count": 27,
      "outputs": [
        {
          "output_type": "stream",
          "name": "stdout",
          "text": [
            "Passed\n",
            "Input : [] \n",
            "Expected O/P : [] \n",
            "Actual O/P : [] \n",
            "\n",
            "Passed\n",
            "Input : [1] \n",
            "Expected O/P : [1] \n",
            "Actual O/P : [1] \n",
            "\n",
            "Passed\n",
            "Input : [1, 2] \n",
            "Expected O/P : [1, 2] \n",
            "Actual O/P : [1, 2] \n",
            "\n",
            "Passed\n",
            "Input : [5, 7, 13] \n",
            "Expected O/P : [5, 7, 13] \n",
            "Actual O/P : [5, 7, 13] \n",
            "\n",
            "Passed\n",
            "Input : [5, 7, 13, 23] \n",
            "Expected O/P : [5, 7, 13, 23] \n",
            "Actual O/P : [5, 7, 13, 23] \n",
            "\n",
            "Passed\n",
            "Input : [0, 0, 1, 1, 2, 2, 15, 15] \n",
            "Expected O/P : [0, 0, 1, 1, 2, 2, 15, 15] \n",
            "Actual O/P : [0, 0, 1, 1, 2, 2, 15, 15] \n",
            "\n",
            "Passed\n",
            "Input : [2, 45, 546, 78435, 135604, 1000000, 456219832] \n",
            "Expected O/P : [2, 45, 546, 78435, 135604, 1000000, 456219832] \n",
            "Actual O/P : [2, 45, 546, 78435, 135604, 1000000, 456219832] \n",
            "\n",
            "All test cases passed\n"
          ]
        }
      ]
    },
    {
      "cell_type": "markdown",
      "source": [
        "## c) Running time profiling"
      ],
      "metadata": {
        "id": "rMlkG3PWHlhe"
      }
    },
    {
      "cell_type": "code",
      "source": [
        "arr = list(range(50,1,-1))\n",
        "print(\"--------Worst Case profiling----------\")\n",
        "print(\"-------Insertion sort----------\")\n",
        "%timeit insertion_sort(arr)\n",
        "print(\"-----------Recursive Merge sort----------\")\n",
        "%timeit merge_sort(arr)"
      ],
      "metadata": {
        "colab": {
          "base_uri": "https://localhost:8080/"
        },
        "id": "uJ7Xz2xQG2FG",
        "outputId": "0c4c342a-18a6-417f-a6c1-e1ad948305e7"
      },
      "execution_count": 31,
      "outputs": [
        {
          "output_type": "stream",
          "name": "stdout",
          "text": [
            "--------Worst Case profiling----------\n",
            "-------Insertion sort----------\n",
            "The slowest run took 50.38 times longer than the fastest. This could mean that an intermediate result is being cached.\n",
            "100000 loops, best of 5: 12 µs per loop\n",
            "-----------Recursive Merge sort----------\n",
            "10000 loops, best of 5: 113 µs per loop\n"
          ]
        }
      ]
    },
    {
      "cell_type": "code",
      "source": [
        ""
      ],
      "metadata": {
        "id": "YWOxrp1BIOXM"
      },
      "execution_count": null,
      "outputs": []
    }
  ]
}